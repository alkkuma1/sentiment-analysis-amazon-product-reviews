{
 "cells": [
  {
   "cell_type": "code",
   "execution_count": 2,
   "metadata": {},
   "outputs": [],
   "source": [
    "from transformers import pipeline\n",
    "import pandas as pd\n",
    "from tqdm.notebook import tqdm\n",
    "tqdm.pandas()"
   ]
  },
  {
   "cell_type": "code",
   "execution_count": 4,
   "metadata": {},
   "outputs": [
    {
     "name": "stderr",
     "output_type": "stream",
     "text": [
      "C:\\Users\\ALKAKU~1\\AppData\\Local\\Temp/ipykernel_11744/2135731349.py:1: DtypeWarning: Columns (10) have mixed types. Specify dtype option on import or set low_memory=False.\n",
      "  electronics_df = pd.read_csv(\"../data/processed/electronics.csv\")\n"
     ]
    }
   ],
   "source": [
    "electronics_df = pd.read_csv(\"../data/processed/electronics.csv\")"
   ]
  },
  {
   "cell_type": "code",
   "execution_count": 5,
   "metadata": {},
   "outputs": [
    {
     "data": {
      "text/html": [
       "<div>\n",
       "<style scoped>\n",
       "    .dataframe tbody tr th:only-of-type {\n",
       "        vertical-align: middle;\n",
       "    }\n",
       "\n",
       "    .dataframe tbody tr th {\n",
       "        vertical-align: top;\n",
       "    }\n",
       "\n",
       "    .dataframe thead th {\n",
       "        text-align: right;\n",
       "    }\n",
       "</style>\n",
       "<table border=\"1\" class=\"dataframe\">\n",
       "  <thead>\n",
       "    <tr style=\"text-align: right;\">\n",
       "      <th></th>\n",
       "      <th>overall</th>\n",
       "      <th>verified</th>\n",
       "      <th>reviewTime</th>\n",
       "      <th>reviewerID</th>\n",
       "      <th>asin</th>\n",
       "      <th>style</th>\n",
       "      <th>reviewerName</th>\n",
       "      <th>reviewText</th>\n",
       "      <th>summary</th>\n",
       "      <th>unixReviewTime</th>\n",
       "      <th>vote</th>\n",
       "      <th>image</th>\n",
       "      <th>index</th>\n",
       "    </tr>\n",
       "  </thead>\n",
       "  <tbody>\n",
       "    <tr>\n",
       "      <th>0</th>\n",
       "      <td>5.0</td>\n",
       "      <td>True</td>\n",
       "      <td>07 17, 2002</td>\n",
       "      <td>A1N070NS9CJQ2I</td>\n",
       "      <td>0060009810</td>\n",
       "      <td>{'Format:': ' Hardcover'}</td>\n",
       "      <td>Teri Adams</td>\n",
       "      <td>this was the first time i read garcia-aguilera...</td>\n",
       "      <td>Hit The Spot!</td>\n",
       "      <td>1026864000</td>\n",
       "      <td>NaN</td>\n",
       "      <td>NaN</td>\n",
       "      <td>0</td>\n",
       "    </tr>\n",
       "    <tr>\n",
       "      <th>1</th>\n",
       "      <td>4.0</td>\n",
       "      <td>True</td>\n",
       "      <td>08 5, 2007</td>\n",
       "      <td>A1X7HRXX3BJXQ8</td>\n",
       "      <td>0060786817</td>\n",
       "      <td>{'Format:': ' Hardcover'}</td>\n",
       "      <td>a reader</td>\n",
       "      <td>extreme warning: unless your computer has upda...</td>\n",
       "      <td>Suckers Always Pay For Beauty----One Way or An...</td>\n",
       "      <td>1186272000</td>\n",
       "      <td>NaN</td>\n",
       "      <td>NaN</td>\n",
       "      <td>1</td>\n",
       "    </tr>\n",
       "  </tbody>\n",
       "</table>\n",
       "</div>"
      ],
      "text/plain": [
       "   overall  verified   reviewTime      reviewerID        asin  \\\n",
       "0      5.0      True  07 17, 2002  A1N070NS9CJQ2I  0060009810   \n",
       "1      4.0      True   08 5, 2007  A1X7HRXX3BJXQ8  0060786817   \n",
       "\n",
       "                       style reviewerName  \\\n",
       "0  {'Format:': ' Hardcover'}   Teri Adams   \n",
       "1  {'Format:': ' Hardcover'}     a reader   \n",
       "\n",
       "                                          reviewText  \\\n",
       "0  this was the first time i read garcia-aguilera...   \n",
       "1  extreme warning: unless your computer has upda...   \n",
       "\n",
       "                                             summary  unixReviewTime vote  \\\n",
       "0                                      Hit The Spot!      1026864000  NaN   \n",
       "1  Suckers Always Pay For Beauty----One Way or An...      1186272000  NaN   \n",
       "\n",
       "  image  index  \n",
       "0   NaN      0  \n",
       "1   NaN      1  "
      ]
     },
     "execution_count": 5,
     "metadata": {},
     "output_type": "execute_result"
    }
   ],
   "source": [
    "electronics_df[\"index\"] = electronics_df.index\n",
    "electronics_df.head(2)"
   ]
  },
  {
   "attachments": {},
   "cell_type": "markdown",
   "metadata": {},
   "source": [
    "## Load the transformers pipeline\n",
    "- Load the models by cd into models folder and running:\n",
    "- git lfs clone https://huggingface.co/facebook/bart-large-mnli/"
   ]
  },
  {
   "cell_type": "code",
   "execution_count": 4,
   "metadata": {},
   "outputs": [],
   "source": [
    "from transformers.pipelines.zero_shot_classification import ZeroShotClassificationPipeline\n",
    "\n",
    "\n",
    "class CustomZeroShotClassificationPipeline(ZeroShotClassificationPipeline):\n",
    "    def preprocess(self, inputs, candidate_labels=None, hypothesis_template=\"This example is {}.\"):\n",
    "        self.idx = inputs[\"index\"]\n",
    "        inputs = inputs[\"reviewText\"]\n",
    "        return super().preprocess(inputs, candidate_labels, hypothesis_template)\n",
    "\n",
    "    def postprocess(self, model_outputs, multi_label=False):\n",
    "        op = super().postprocess(model_outputs, multi_label)\n",
    "        op[\"idx\"] = self.idx\n",
    "        return op\n"
   ]
  },
  {
   "cell_type": "code",
   "execution_count": 5,
   "metadata": {},
   "outputs": [],
   "source": [
    "classifier = pipeline(\"zero-shot-classification\",\n",
    "                      model=\"../models/bart-large-mnli\",\n",
    "                      device=\"cuda:0\",\n",
    "                      pipeline_class=CustomZeroShotClassificationPipeline)\n"
   ]
  },
  {
   "cell_type": "code",
   "execution_count": 6,
   "metadata": {},
   "outputs": [],
   "source": [
    "# convert electronics_df to a pytorch dataset\n",
    "from torch.utils.data import Dataset, DataLoader\n",
    "\n",
    "\n",
    "class AmazonDataset(Dataset):\n",
    "    def __init__(self, df):\n",
    "        self.df = df\n",
    "\n",
    "    def __len__(self):\n",
    "        return len(self.df)\n",
    "\n",
    "    def __getitem__(self, idx):\n",
    "        return self.df.iloc[idx]\n",
    "\n",
    "\n",
    "electronics_dataset = AmazonDataset(electronics_df.sample(10000))\n"
   ]
  },
  {
   "cell_type": "code",
   "execution_count": 7,
   "metadata": {},
   "outputs": [],
   "source": [
    "candidate_labels = [\"positive_review\", \"negative_review\", \"neutral_review\"]"
   ]
  },
  {
   "cell_type": "code",
   "execution_count": 8,
   "metadata": {},
   "outputs": [
    {
     "data": {
      "application/vnd.jupyter.widget-view+json": {
       "model_id": "2b1d66cca2064a70957f7f399b2feba4",
       "version_major": 2,
       "version_minor": 0
      },
      "text/plain": [
       "  0%|          | 0/1000 [00:00<?, ?it/s]"
      ]
     },
     "metadata": {},
     "output_type": "display_data"
    }
   ],
   "source": [
    "output = []\n",
    "for out in tqdm(classifier(electronics_dataset, candidate_labels, multiclass=False, batch_size=10)):\n",
    "    op_dict = {}\n",
    "    for i, label in enumerate(out[\"labels\"]):\n",
    "        op_dict[label] = out[\"scores\"][i]\n",
    "    op_dict[\"idx\"] = out[\"idx\"]\n",
    "    output.append(op_dict)"
   ]
  },
  {
   "cell_type": "code",
   "execution_count": null,
   "metadata": {},
   "outputs": [],
   "source": [
    "op_df = pd.DataFrame(output)"
   ]
  },
  {
   "cell_type": "code",
   "execution_count": null,
   "metadata": {},
   "outputs": [
    {
     "data": {
      "text/html": [
       "<div>\n",
       "<style scoped>\n",
       "    .dataframe tbody tr th:only-of-type {\n",
       "        vertical-align: middle;\n",
       "    }\n",
       "\n",
       "    .dataframe tbody tr th {\n",
       "        vertical-align: top;\n",
       "    }\n",
       "\n",
       "    .dataframe thead th {\n",
       "        text-align: right;\n",
       "    }\n",
       "</style>\n",
       "<table border=\"1\" class=\"dataframe\">\n",
       "  <thead>\n",
       "    <tr style=\"text-align: right;\">\n",
       "      <th></th>\n",
       "      <th>positive_review</th>\n",
       "      <th>neutral_review</th>\n",
       "      <th>negative_review</th>\n",
       "      <th>idx</th>\n",
       "    </tr>\n",
       "  </thead>\n",
       "  <tbody>\n",
       "    <tr>\n",
       "      <th>0</th>\n",
       "      <td>0.728096</td>\n",
       "      <td>0.201501</td>\n",
       "      <td>0.070403</td>\n",
       "      <td>2</td>\n",
       "    </tr>\n",
       "  </tbody>\n",
       "</table>\n",
       "</div>"
      ],
      "text/plain": [
       "   positive_review  neutral_review  negative_review  idx\n",
       "0         0.728096        0.201501         0.070403    2"
      ]
     },
     "execution_count": 18,
     "metadata": {},
     "output_type": "execute_result"
    }
   ],
   "source": [
    "op_df"
   ]
  },
  {
   "cell_type": "code",
   "execution_count": null,
   "metadata": {},
   "outputs": [],
   "source": [
    "op_df.to_csv(\"../data/processed/electronics_zero_shot.csv\", index=False)"
   ]
  },
  {
   "attachments": {},
   "cell_type": "markdown",
   "metadata": {},
   "source": []
  },
  {
   "cell_type": "code",
   "execution_count": 10,
   "metadata": {},
   "outputs": [],
   "source": [
    "merged_df = pd.read_csv(\"../data/processed/electronics_zero_shot_merged.csv\")"
   ]
  },
  {
   "cell_type": "code",
   "execution_count": 11,
   "metadata": {},
   "outputs": [
    {
     "data": {
      "text/html": [
       "<div>\n",
       "<style scoped>\n",
       "    .dataframe tbody tr th:only-of-type {\n",
       "        vertical-align: middle;\n",
       "    }\n",
       "\n",
       "    .dataframe tbody tr th {\n",
       "        vertical-align: top;\n",
       "    }\n",
       "\n",
       "    .dataframe thead th {\n",
       "        text-align: right;\n",
       "    }\n",
       "</style>\n",
       "<table border=\"1\" class=\"dataframe\">\n",
       "  <thead>\n",
       "    <tr style=\"text-align: right;\">\n",
       "      <th></th>\n",
       "      <th>overall</th>\n",
       "      <th>verified</th>\n",
       "      <th>reviewTime</th>\n",
       "      <th>reviewerID</th>\n",
       "      <th>asin</th>\n",
       "      <th>style</th>\n",
       "      <th>reviewerName</th>\n",
       "      <th>reviewText</th>\n",
       "      <th>summary</th>\n",
       "      <th>unixReviewTime</th>\n",
       "      <th>vote</th>\n",
       "      <th>image</th>\n",
       "      <th>idx</th>\n",
       "      <th>positive_review</th>\n",
       "      <th>neutral_review</th>\n",
       "      <th>negative_review</th>\n",
       "      <th>id</th>\n",
       "    </tr>\n",
       "  </thead>\n",
       "  <tbody>\n",
       "    <tr>\n",
       "      <th>0</th>\n",
       "      <td>5.0</td>\n",
       "      <td>True</td>\n",
       "      <td>09 4, 2015</td>\n",
       "      <td>A7ZSEBCEXH9Y0</td>\n",
       "      <td>0972683275</td>\n",
       "      <td>NaN</td>\n",
       "      <td>tooltimetim7</td>\n",
       "      <td>Awesome product! low profile and easy to insta...</td>\n",
       "      <td>Five Stars</td>\n",
       "      <td>1441324800</td>\n",
       "      <td>NaN</td>\n",
       "      <td>NaN</td>\n",
       "      <td>2362</td>\n",
       "      <td>0.921100</td>\n",
       "      <td>0.074023</td>\n",
       "      <td>0.004876</td>\n",
       "      <td>2362</td>\n",
       "    </tr>\n",
       "    <tr>\n",
       "      <th>1</th>\n",
       "      <td>4.0</td>\n",
       "      <td>True</td>\n",
       "      <td>03 4, 2015</td>\n",
       "      <td>A23XV9P6VVHJUG</td>\n",
       "      <td>0972683275</td>\n",
       "      <td>NaN</td>\n",
       "      <td>Stephanie</td>\n",
       "      <td>We used this for our 40\" Sony Bravia. The moun...</td>\n",
       "      <td>We used this for our 40\" Sony Bravia. The ...</td>\n",
       "      <td>1425427200</td>\n",
       "      <td>NaN</td>\n",
       "      <td>NaN</td>\n",
       "      <td>2456</td>\n",
       "      <td>0.814065</td>\n",
       "      <td>0.162815</td>\n",
       "      <td>0.023120</td>\n",
       "      <td>2456</td>\n",
       "    </tr>\n",
       "    <tr>\n",
       "      <th>2</th>\n",
       "      <td>2.0</td>\n",
       "      <td>True</td>\n",
       "      <td>12 23, 2014</td>\n",
       "      <td>A38GUMQBDV5HWL</td>\n",
       "      <td>106171327X</td>\n",
       "      <td>NaN</td>\n",
       "      <td>KAG</td>\n",
       "      <td>SanDisk quality has really went down hill and ...</td>\n",
       "      <td>Buy something else....quality control issues</td>\n",
       "      <td>1419292800</td>\n",
       "      <td>3.0</td>\n",
       "      <td>NaN</td>\n",
       "      <td>4521</td>\n",
       "      <td>0.117972</td>\n",
       "      <td>0.244130</td>\n",
       "      <td>0.637898</td>\n",
       "      <td>4521</td>\n",
       "    </tr>\n",
       "    <tr>\n",
       "      <th>3</th>\n",
       "      <td>5.0</td>\n",
       "      <td>True</td>\n",
       "      <td>07 8, 2016</td>\n",
       "      <td>A3BBR7B3LUB0SL</td>\n",
       "      <td>1495443043</td>\n",
       "      <td>{'Format:': ' Kindle Edition'}</td>\n",
       "      <td>Joanne Gibson</td>\n",
       "      <td>I thoroughly enjoyed reading the book.</td>\n",
       "      <td>Five Stars</td>\n",
       "      <td>1467936000</td>\n",
       "      <td>NaN</td>\n",
       "      <td>NaN</td>\n",
       "      <td>8873</td>\n",
       "      <td>0.878180</td>\n",
       "      <td>0.107296</td>\n",
       "      <td>0.014524</td>\n",
       "      <td>8873</td>\n",
       "    </tr>\n",
       "    <tr>\n",
       "      <th>4</th>\n",
       "      <td>5.0</td>\n",
       "      <td>True</td>\n",
       "      <td>03 12, 2015</td>\n",
       "      <td>AWDKMTNCWW8IX</td>\n",
       "      <td>1495443043</td>\n",
       "      <td>{'Format:': ' Kindle Edition'}</td>\n",
       "      <td>Tammy Rasche</td>\n",
       "      <td>Loved it.,</td>\n",
       "      <td>Five Stars</td>\n",
       "      <td>1426118400</td>\n",
       "      <td>NaN</td>\n",
       "      <td>NaN</td>\n",
       "      <td>9986</td>\n",
       "      <td>0.951352</td>\n",
       "      <td>0.045861</td>\n",
       "      <td>0.002786</td>\n",
       "      <td>9986</td>\n",
       "    </tr>\n",
       "  </tbody>\n",
       "</table>\n",
       "</div>"
      ],
      "text/plain": [
       "   overall  verified   reviewTime      reviewerID        asin  \\\n",
       "0      5.0      True   09 4, 2015   A7ZSEBCEXH9Y0  0972683275   \n",
       "1      4.0      True   03 4, 2015  A23XV9P6VVHJUG  0972683275   \n",
       "2      2.0      True  12 23, 2014  A38GUMQBDV5HWL  106171327X   \n",
       "3      5.0      True   07 8, 2016  A3BBR7B3LUB0SL  1495443043   \n",
       "4      5.0      True  03 12, 2015   AWDKMTNCWW8IX  1495443043   \n",
       "\n",
       "                            style   reviewerName  \\\n",
       "0                             NaN   tooltimetim7   \n",
       "1                             NaN      Stephanie   \n",
       "2                             NaN            KAG   \n",
       "3  {'Format:': ' Kindle Edition'}  Joanne Gibson   \n",
       "4  {'Format:': ' Kindle Edition'}   Tammy Rasche   \n",
       "\n",
       "                                          reviewText  \\\n",
       "0  Awesome product! low profile and easy to insta...   \n",
       "1  We used this for our 40\" Sony Bravia. The moun...   \n",
       "2  SanDisk quality has really went down hill and ...   \n",
       "3             I thoroughly enjoyed reading the book.   \n",
       "4                                         Loved it.,   \n",
       "\n",
       "                                         summary  unixReviewTime  vote image  \\\n",
       "0                                     Five Stars      1441324800   NaN   NaN   \n",
       "1  We used this for our 40\" Sony Bravia. The ...      1425427200   NaN   NaN   \n",
       "2   Buy something else....quality control issues      1419292800   3.0   NaN   \n",
       "3                                     Five Stars      1467936000   NaN   NaN   \n",
       "4                                     Five Stars      1426118400   NaN   NaN   \n",
       "\n",
       "    idx  positive_review  neutral_review  negative_review    id  \n",
       "0  2362         0.921100        0.074023         0.004876  2362  \n",
       "1  2456         0.814065        0.162815         0.023120  2456  \n",
       "2  4521         0.117972        0.244130         0.637898  4521  \n",
       "3  8873         0.878180        0.107296         0.014524  8873  \n",
       "4  9986         0.951352        0.045861         0.002786  9986  "
      ]
     },
     "execution_count": 11,
     "metadata": {},
     "output_type": "execute_result"
    }
   ],
   "source": [
    "merged_df.head()"
   ]
  }
 ],
 "metadata": {
  "kernelspec": {
   "display_name": "ecommerce_sentiment_analysis",
   "language": "python",
   "name": "python3"
  },
  "language_info": {
   "codemirror_mode": {
    "name": "ipython",
    "version": 3
   },
   "file_extension": ".py",
   "mimetype": "text/x-python",
   "name": "python",
   "nbconvert_exporter": "python",
   "pygments_lexer": "ipython3",
   "version": "3.9.16"
  },
  "orig_nbformat": 4
 },
 "nbformat": 4,
 "nbformat_minor": 2
}
