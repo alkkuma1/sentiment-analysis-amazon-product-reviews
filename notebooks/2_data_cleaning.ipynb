{
 "cells": [
  {
   "cell_type": "code",
   "execution_count": 1,
   "metadata": {},
   "outputs": [],
   "source": [
    "import pandas as pd"
   ]
  },
  {
   "cell_type": "code",
   "execution_count": 2,
   "metadata": {},
   "outputs": [],
   "source": [
    "electronics_df = pd.read_csv('../data/raw/Electronics.csv', header=0, sep='\\t', low_memory=False)"
   ]
  },
  {
   "cell_type": "code",
   "execution_count": 3,
   "metadata": {},
   "outputs": [],
   "source": [
    "# clean rows will null or empty values in unixReviewTime\n",
    "electronics_df = electronics_df.dropna(subset=['unixReviewTime'])\n",
    "electronics_df = electronics_df.dropna(subset=['reviewText'])"
   ]
  },
  {
   "cell_type": "code",
   "execution_count": 4,
   "metadata": {},
   "outputs": [],
   "source": [
    "# filter rows where verified is true\n",
    "electronics_df = electronics_df[electronics_df['verified'] == True]"
   ]
  },
  {
   "cell_type": "code",
   "execution_count": 5,
   "metadata": {},
   "outputs": [],
   "source": [
    "#change all review text to lowercase\n",
    "electronics_df['reviewText'] = electronics_df['reviewText'].str.lower()"
   ]
  },
  {
   "cell_type": "code",
   "execution_count": 6,
   "metadata": {},
   "outputs": [
    {
     "name": "stderr",
     "output_type": "stream",
     "text": [
      "C:\\Users\\ALKAKU~1\\AppData\\Local\\Temp/ipykernel_14276/71325430.py:2: FutureWarning: The default value of regex will change from True to False in a future version.\n",
      "  electronics_df['reviewText'] = electronics_df['reviewText'].str.replace(r'http\\S+', '', case=False)\n"
     ]
    }
   ],
   "source": [
    "#code to remove hyperlinks from review text\n",
    "electronics_df['reviewText'] = electronics_df['reviewText'].str.replace(r'http\\S+', '', case=False)"
   ]
  },
  {
   "cell_type": "code",
   "execution_count": 7,
   "metadata": {},
   "outputs": [
    {
     "data": {
      "text/html": [
       "<div>\n",
       "<style scoped>\n",
       "    .dataframe tbody tr th:only-of-type {\n",
       "        vertical-align: middle;\n",
       "    }\n",
       "\n",
       "    .dataframe tbody tr th {\n",
       "        vertical-align: top;\n",
       "    }\n",
       "\n",
       "    .dataframe thead th {\n",
       "        text-align: right;\n",
       "    }\n",
       "</style>\n",
       "<table border=\"1\" class=\"dataframe\">\n",
       "  <thead>\n",
       "    <tr style=\"text-align: right;\">\n",
       "      <th></th>\n",
       "      <th>overall</th>\n",
       "      <th>verified</th>\n",
       "      <th>reviewTime</th>\n",
       "      <th>reviewerID</th>\n",
       "      <th>asin</th>\n",
       "      <th>style</th>\n",
       "      <th>reviewerName</th>\n",
       "      <th>reviewText</th>\n",
       "      <th>summary</th>\n",
       "      <th>unixReviewTime</th>\n",
       "      <th>vote</th>\n",
       "      <th>image</th>\n",
       "    </tr>\n",
       "  </thead>\n",
       "  <tbody>\n",
       "    <tr>\n",
       "      <th>172694</th>\n",
       "      <td>5.0</td>\n",
       "      <td>True</td>\n",
       "      <td>03 22, 2012</td>\n",
       "      <td>A2IKIVHOG3A4QD</td>\n",
       "      <td>B00005RKSM</td>\n",
       "      <td>{'Style:': ' Canon Digital SLR Cameras'}</td>\n",
       "      <td>N. Salow</td>\n",
       "      <td>i bought this lens almost 2 years ago and i ab...</td>\n",
       "      <td>In love</td>\n",
       "      <td>1332374400</td>\n",
       "      <td>NaN</td>\n",
       "      <td>NaN</td>\n",
       "    </tr>\n",
       "    <tr>\n",
       "      <th>97710</th>\n",
       "      <td>5.0</td>\n",
       "      <td>True</td>\n",
       "      <td>02 3, 2009</td>\n",
       "      <td>A31LRWYNH7CJYH</td>\n",
       "      <td>B00004Z5M1</td>\n",
       "      <td>{'Capacity:': ' 10 Feet', 'Style:': ' Single P...</td>\n",
       "      <td>Matthew J. Rieder</td>\n",
       "      <td>this cable was brand name and not generic, and...</td>\n",
       "      <td>Great price for the genuine article</td>\n",
       "      <td>1233619200</td>\n",
       "      <td>NaN</td>\n",
       "      <td>NaN</td>\n",
       "    </tr>\n",
       "    <tr>\n",
       "      <th>75267</th>\n",
       "      <td>5.0</td>\n",
       "      <td>True</td>\n",
       "      <td>03 22, 2015</td>\n",
       "      <td>A33O7LFC82ACBG</td>\n",
       "      <td>B00004TWLZ</td>\n",
       "      <td>{'Package Type:': ' Standard Packaging'}</td>\n",
       "      <td>Sheila R.</td>\n",
       "      <td>just received these rolls. came in brand new p...</td>\n",
       "      <td>just as expected</td>\n",
       "      <td>1426982400</td>\n",
       "      <td>NaN</td>\n",
       "      <td>NaN</td>\n",
       "    </tr>\n",
       "  </tbody>\n",
       "</table>\n",
       "</div>"
      ],
      "text/plain": [
       "        overall  verified   reviewTime      reviewerID        asin  \\\n",
       "172694      5.0      True  03 22, 2012  A2IKIVHOG3A4QD  B00005RKSM   \n",
       "97710       5.0      True   02 3, 2009  A31LRWYNH7CJYH  B00004Z5M1   \n",
       "75267       5.0      True  03 22, 2015  A33O7LFC82ACBG  B00004TWLZ   \n",
       "\n",
       "                                                    style       reviewerName  \\\n",
       "172694           {'Style:': ' Canon Digital SLR Cameras'}           N. Salow   \n",
       "97710   {'Capacity:': ' 10 Feet', 'Style:': ' Single P...  Matthew J. Rieder   \n",
       "75267            {'Package Type:': ' Standard Packaging'}          Sheila R.   \n",
       "\n",
       "                                               reviewText  \\\n",
       "172694  i bought this lens almost 2 years ago and i ab...   \n",
       "97710   this cable was brand name and not generic, and...   \n",
       "75267   just received these rolls. came in brand new p...   \n",
       "\n",
       "                                    summary  unixReviewTime vote image  \n",
       "172694                              In love      1332374400  NaN   NaN  \n",
       "97710   Great price for the genuine article      1233619200  NaN   NaN  \n",
       "75267                      just as expected      1426982400  NaN   NaN  "
      ]
     },
     "execution_count": 7,
     "metadata": {},
     "output_type": "execute_result"
    }
   ],
   "source": [
    "electronics_df.sample(3)"
   ]
  },
  {
   "cell_type": "code",
   "execution_count": 7,
   "metadata": {},
   "outputs": [],
   "source": [
    "electronics_df.to_csv('../data/processed/electronics.csv', index=False)"
   ]
  }
 ],
 "metadata": {
  "kernelspec": {
   "display_name": "ecommerce_sentiment_analysis",
   "language": "python",
   "name": "python3"
  },
  "language_info": {
   "codemirror_mode": {
    "name": "ipython",
    "version": 3
   },
   "file_extension": ".py",
   "mimetype": "text/x-python",
   "name": "python",
   "nbconvert_exporter": "python",
   "pygments_lexer": "ipython3",
   "version": "3.9.16"
  },
  "orig_nbformat": 4
 },
 "nbformat": 4,
 "nbformat_minor": 2
}
