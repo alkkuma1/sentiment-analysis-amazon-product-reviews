{
 "cells": [
  {
   "attachments": {},
   "cell_type": "markdown",
   "metadata": {},
   "source": [
    "# Imports"
   ]
  },
  {
   "cell_type": "code",
   "execution_count": 1,
   "metadata": {},
   "outputs": [],
   "source": [
    "import json\n",
    "import gzip\n",
    "import tqdm\n",
    "import pandas as pd"
   ]
  },
  {
   "cell_type": "code",
   "execution_count": 2,
   "metadata": {},
   "outputs": [
    {
     "name": "stderr",
     "output_type": "stream",
     "text": [
      "786445it [26:26, 495.66it/s] \n"
     ]
    }
   ],
   "source": [
    "data = []\n",
    "with gzip.open('../data/raw/meta_Electronics.json.gz') as f:\n",
    "    for l in tqdm.tqdm(f):\n",
    "        data.append(json.loads(l.strip()))"
   ]
  },
  {
   "cell_type": "code",
   "execution_count": 3,
   "metadata": {},
   "outputs": [
    {
     "data": {
      "text/html": [
       "<div>\n",
       "<style scoped>\n",
       "    .dataframe tbody tr th:only-of-type {\n",
       "        vertical-align: middle;\n",
       "    }\n",
       "\n",
       "    .dataframe tbody tr th {\n",
       "        vertical-align: top;\n",
       "    }\n",
       "\n",
       "    .dataframe thead th {\n",
       "        text-align: right;\n",
       "    }\n",
       "</style>\n",
       "<table border=\"1\" class=\"dataframe\">\n",
       "  <thead>\n",
       "    <tr style=\"text-align: right;\">\n",
       "      <th></th>\n",
       "      <th>category</th>\n",
       "      <th>tech1</th>\n",
       "      <th>description</th>\n",
       "      <th>fit</th>\n",
       "      <th>title</th>\n",
       "      <th>also_buy</th>\n",
       "      <th>tech2</th>\n",
       "      <th>brand</th>\n",
       "      <th>feature</th>\n",
       "      <th>rank</th>\n",
       "      <th>also_view</th>\n",
       "      <th>main_cat</th>\n",
       "      <th>similar_item</th>\n",
       "      <th>date</th>\n",
       "      <th>price</th>\n",
       "      <th>asin</th>\n",
       "      <th>imageURL</th>\n",
       "      <th>imageURLHighRes</th>\n",
       "      <th>details</th>\n",
       "    </tr>\n",
       "  </thead>\n",
       "  <tbody>\n",
       "    <tr>\n",
       "      <th>0</th>\n",
       "      <td>[Electronics, Camera &amp;amp; Photo, Video Survei...</td>\n",
       "      <td></td>\n",
       "      <td>[The following camera brands and models have b...</td>\n",
       "      <td></td>\n",
       "      <td>Genuine Geovision 1 Channel 3rd Party NVR IP S...</td>\n",
       "      <td>[]</td>\n",
       "      <td></td>\n",
       "      <td>GeoVision</td>\n",
       "      <td>[Genuine Geovision 1 Channel NVR IP Software, ...</td>\n",
       "      <td>[&gt;#3,092 in Tools &amp;amp; Home Improvement &amp;gt; ...</td>\n",
       "      <td>[]</td>\n",
       "      <td>Camera &amp;amp; Photo</td>\n",
       "      <td></td>\n",
       "      <td>January 28, 2014</td>\n",
       "      <td>$65.00</td>\n",
       "      <td>0011300000</td>\n",
       "      <td>[https://images-na.ssl-images-amazon.com/image...</td>\n",
       "      <td>[https://images-na.ssl-images-amazon.com/image...</td>\n",
       "      <td>NaN</td>\n",
       "    </tr>\n",
       "    <tr>\n",
       "      <th>1</th>\n",
       "      <td>[Electronics, Camera &amp;amp; Photo]</td>\n",
       "      <td></td>\n",
       "      <td>[This second edition of the Handbook of Astron...</td>\n",
       "      <td></td>\n",
       "      <td>Books \"Handbook of Astronomical Image Processi...</td>\n",
       "      <td>[0999470906]</td>\n",
       "      <td></td>\n",
       "      <td>33 Books Co.</td>\n",
       "      <td>[Detailed chapters cover these fundamental top...</td>\n",
       "      <td>[&gt;#55,933 in Camera &amp;amp; Photo (See Top 100 i...</td>\n",
       "      <td>[0943396670, 1138055360, 0999470906]</td>\n",
       "      <td>Camera &amp;amp; Photo</td>\n",
       "      <td></td>\n",
       "      <td>June 17, 2003</td>\n",
       "      <td></td>\n",
       "      <td>0043396828</td>\n",
       "      <td>[https://images-na.ssl-images-amazon.com/image...</td>\n",
       "      <td>[https://images-na.ssl-images-amazon.com/image...</td>\n",
       "      <td>NaN</td>\n",
       "    </tr>\n",
       "  </tbody>\n",
       "</table>\n",
       "</div>"
      ],
      "text/plain": [
       "                                            category tech1  \\\n",
       "0  [Electronics, Camera &amp; Photo, Video Survei...         \n",
       "1                  [Electronics, Camera &amp; Photo]         \n",
       "\n",
       "                                         description fit  \\\n",
       "0  [The following camera brands and models have b...       \n",
       "1  [This second edition of the Handbook of Astron...       \n",
       "\n",
       "                                               title      also_buy tech2  \\\n",
       "0  Genuine Geovision 1 Channel 3rd Party NVR IP S...            []         \n",
       "1  Books \"Handbook of Astronomical Image Processi...  [0999470906]         \n",
       "\n",
       "          brand                                            feature  \\\n",
       "0     GeoVision  [Genuine Geovision 1 Channel NVR IP Software, ...   \n",
       "1  33 Books Co.  [Detailed chapters cover these fundamental top...   \n",
       "\n",
       "                                                rank  \\\n",
       "0  [>#3,092 in Tools &amp; Home Improvement &gt; ...   \n",
       "1  [>#55,933 in Camera &amp; Photo (See Top 100 i...   \n",
       "\n",
       "                              also_view            main_cat similar_item  \\\n",
       "0                                    []  Camera &amp; Photo                \n",
       "1  [0943396670, 1138055360, 0999470906]  Camera &amp; Photo                \n",
       "\n",
       "               date   price        asin  \\\n",
       "0  January 28, 2014  $65.00  0011300000   \n",
       "1     June 17, 2003          0043396828   \n",
       "\n",
       "                                            imageURL  \\\n",
       "0  [https://images-na.ssl-images-amazon.com/image...   \n",
       "1  [https://images-na.ssl-images-amazon.com/image...   \n",
       "\n",
       "                                     imageURLHighRes details  \n",
       "0  [https://images-na.ssl-images-amazon.com/image...     NaN  \n",
       "1  [https://images-na.ssl-images-amazon.com/image...     NaN  "
      ]
     },
     "execution_count": 3,
     "metadata": {},
     "output_type": "execute_result"
    }
   ],
   "source": [
    "# convert to pandas dataframe\n",
    "df = pd.DataFrame.from_dict(data)\n",
    "df.head(2)"
   ]
  },
  {
   "cell_type": "code",
   "execution_count": 4,
   "metadata": {},
   "outputs": [],
   "source": [
    "df.to_csv(\"../data/raw/meta_Electronics.csv\", index=False, sep='\\t')"
   ]
  },
  {
   "cell_type": "code",
   "execution_count": 5,
   "metadata": {},
   "outputs": [
    {
     "name": "stderr",
     "output_type": "stream",
     "text": [
      "20994353it [25:01, 13979.85it/s]\n"
     ]
    }
   ],
   "source": [
    "data = []\n",
    "with gzip.open('../data/raw/Electronics.json.gz') as f:\n",
    "    for l in tqdm.tqdm(f):\n",
    "        data.append(json.loads(l.strip()))"
   ]
  },
  {
   "cell_type": "code",
   "execution_count": 6,
   "metadata": {},
   "outputs": [],
   "source": [
    "df = pd.DataFrame.from_dict(data)"
   ]
  },
  {
   "cell_type": "code",
   "execution_count": 7,
   "metadata": {},
   "outputs": [],
   "source": [
    "df.to_csv(\"../data/raw/Electronics.csv\", index=False, sep='\\t')"
   ]
  },
  {
   "cell_type": "code",
   "execution_count": 8,
   "metadata": {},
   "outputs": [
    {
     "data": {
      "text/html": [
       "<div>\n",
       "<style scoped>\n",
       "    .dataframe tbody tr th:only-of-type {\n",
       "        vertical-align: middle;\n",
       "    }\n",
       "\n",
       "    .dataframe tbody tr th {\n",
       "        vertical-align: top;\n",
       "    }\n",
       "\n",
       "    .dataframe thead th {\n",
       "        text-align: right;\n",
       "    }\n",
       "</style>\n",
       "<table border=\"1\" class=\"dataframe\">\n",
       "  <thead>\n",
       "    <tr style=\"text-align: right;\">\n",
       "      <th></th>\n",
       "      <th>overall</th>\n",
       "      <th>verified</th>\n",
       "      <th>reviewTime</th>\n",
       "      <th>reviewerID</th>\n",
       "      <th>asin</th>\n",
       "      <th>style</th>\n",
       "      <th>reviewerName</th>\n",
       "      <th>reviewText</th>\n",
       "      <th>summary</th>\n",
       "      <th>unixReviewTime</th>\n",
       "      <th>vote</th>\n",
       "      <th>image</th>\n",
       "    </tr>\n",
       "  </thead>\n",
       "  <tbody>\n",
       "    <tr>\n",
       "      <th>15062440</th>\n",
       "      <td>4.0</td>\n",
       "      <td>True</td>\n",
       "      <td>11 25, 2015</td>\n",
       "      <td>A1FKZMR9GIMLQN</td>\n",
       "      <td>B011TYHRBA</td>\n",
       "      <td>{'Color:': ' Rose.'}</td>\n",
       "      <td>Barnes</td>\n",
       "      <td>Work well for the price, but would have like a...</td>\n",
       "      <td>but would have like a set with more muted colors</td>\n",
       "      <td>1448409600</td>\n",
       "      <td>NaN</td>\n",
       "      <td>NaN</td>\n",
       "    </tr>\n",
       "    <tr>\n",
       "      <th>8677921</th>\n",
       "      <td>5.0</td>\n",
       "      <td>True</td>\n",
       "      <td>02 9, 2015</td>\n",
       "      <td>A34KE8S75317FJ</td>\n",
       "      <td>B00CDGSNL2</td>\n",
       "      <td>{'Color:': ' Black'}</td>\n",
       "      <td>Beryl Jones</td>\n",
       "      <td>I absolutely love my JAM XT...sounds great and...</td>\n",
       "      <td>Five Stars</td>\n",
       "      <td>1423440000</td>\n",
       "      <td>NaN</td>\n",
       "      <td>NaN</td>\n",
       "    </tr>\n",
       "    <tr>\n",
       "      <th>16938204</th>\n",
       "      <td>5.0</td>\n",
       "      <td>True</td>\n",
       "      <td>12 14, 2017</td>\n",
       "      <td>A26Y89HCH4NAHS</td>\n",
       "      <td>B01DK13VZ6</td>\n",
       "      <td>{'Color:': ' Black'}</td>\n",
       "      <td>Ahmed Alhajri</td>\n",
       "      <td>Very good product</td>\n",
       "      <td>Five Stars</td>\n",
       "      <td>1513209600</td>\n",
       "      <td>NaN</td>\n",
       "      <td>NaN</td>\n",
       "    </tr>\n",
       "    <tr>\n",
       "      <th>19253527</th>\n",
       "      <td>1.0</td>\n",
       "      <td>True</td>\n",
       "      <td>06 11, 2014</td>\n",
       "      <td>A3I26NLQ385OIG</td>\n",
       "      <td>B00EFZPT8O</td>\n",
       "      <td>NaN</td>\n",
       "      <td>diannamarie61</td>\n",
       "      <td>It does not work, it does not read cd's at all...</td>\n",
       "      <td>disappointed</td>\n",
       "      <td>1402444800</td>\n",
       "      <td>6</td>\n",
       "      <td>NaN</td>\n",
       "    </tr>\n",
       "    <tr>\n",
       "      <th>14034555</th>\n",
       "      <td>5.0</td>\n",
       "      <td>True</td>\n",
       "      <td>03 17, 2016</td>\n",
       "      <td>A2OZ568RSSZOEY</td>\n",
       "      <td>B00V49LV86</td>\n",
       "      <td>NaN</td>\n",
       "      <td>Jerry V.</td>\n",
       "      <td>I purchased this for a friend as a gift as wel...</td>\n",
       "      <td>Great gift!!!!</td>\n",
       "      <td>1458172800</td>\n",
       "      <td>NaN</td>\n",
       "      <td>NaN</td>\n",
       "    </tr>\n",
       "  </tbody>\n",
       "</table>\n",
       "</div>"
      ],
      "text/plain": [
       "          overall  verified   reviewTime      reviewerID        asin  \\\n",
       "15062440      4.0      True  11 25, 2015  A1FKZMR9GIMLQN  B011TYHRBA   \n",
       "8677921       5.0      True   02 9, 2015  A34KE8S75317FJ  B00CDGSNL2   \n",
       "16938204      5.0      True  12 14, 2017  A26Y89HCH4NAHS  B01DK13VZ6   \n",
       "19253527      1.0      True  06 11, 2014  A3I26NLQ385OIG  B00EFZPT8O   \n",
       "14034555      5.0      True  03 17, 2016  A2OZ568RSSZOEY  B00V49LV86   \n",
       "\n",
       "                         style    reviewerName  \\\n",
       "15062440  {'Color:': ' Rose.'}          Barnes   \n",
       "8677921   {'Color:': ' Black'}     Beryl Jones   \n",
       "16938204  {'Color:': ' Black'}  Ahmed Alhajri    \n",
       "19253527                   NaN   diannamarie61   \n",
       "14034555                   NaN        Jerry V.   \n",
       "\n",
       "                                                 reviewText  \\\n",
       "15062440  Work well for the price, but would have like a...   \n",
       "8677921   I absolutely love my JAM XT...sounds great and...   \n",
       "16938204                                  Very good product   \n",
       "19253527  It does not work, it does not read cd's at all...   \n",
       "14034555  I purchased this for a friend as a gift as wel...   \n",
       "\n",
       "                                                   summary  unixReviewTime  \\\n",
       "15062440  but would have like a set with more muted colors      1448409600   \n",
       "8677921                                         Five Stars      1423440000   \n",
       "16938204                                        Five Stars      1513209600   \n",
       "19253527                                      disappointed      1402444800   \n",
       "14034555                                    Great gift!!!!      1458172800   \n",
       "\n",
       "         vote image  \n",
       "15062440  NaN   NaN  \n",
       "8677921   NaN   NaN  \n",
       "16938204  NaN   NaN  \n",
       "19253527    6   NaN  \n",
       "14034555  NaN   NaN  "
      ]
     },
     "execution_count": 8,
     "metadata": {},
     "output_type": "execute_result"
    }
   ],
   "source": [
    "df.sample(5)"
   ]
  },
  {
   "cell_type": "code",
   "execution_count": 9,
   "metadata": {},
   "outputs": [
    {
     "data": {
      "text/plain": [
       "20994353"
      ]
     },
     "execution_count": 9,
     "metadata": {},
     "output_type": "execute_result"
    }
   ],
   "source": [
    "len(df)"
   ]
  },
  {
   "cell_type": "code",
   "execution_count": null,
   "metadata": {},
   "outputs": [],
   "source": []
  }
 ],
 "metadata": {
  "kernelspec": {
   "display_name": "ecommerce_sentiment_analysis",
   "language": "python",
   "name": "python3"
  },
  "language_info": {
   "codemirror_mode": {
    "name": "ipython",
    "version": 3
   },
   "file_extension": ".py",
   "mimetype": "text/x-python",
   "name": "python",
   "nbconvert_exporter": "python",
   "pygments_lexer": "ipython3",
   "version": "3.9.16"
  },
  "orig_nbformat": 4
 },
 "nbformat": 4,
 "nbformat_minor": 2
}
